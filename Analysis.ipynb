{
 "cells": [
  {
   "cell_type": "markdown",
   "id": "76af6e94",
   "metadata": {},
   "source": [
    "# Analyze Taiwan credit default data"
   ]
  },
  {
   "cell_type": "markdown",
   "id": "2980ba6f",
   "metadata": {},
   "source": [
    "This Jupyter notebook will construct neural network models that are trained using the tensorflow.keras API framework in Python. "
   ]
  },
  {
   "cell_type": "code",
   "execution_count": 35,
   "id": "55669dc4",
   "metadata": {},
   "outputs": [
    {
     "name": "stdout",
     "output_type": "stream",
     "text": [
      "2.4.1\n"
     ]
    }
   ],
   "source": [
    "import matplotlib.pyplot as plt\n",
    "import numpy as np\n",
    "import pandas as pd\n",
    "import seaborn as sns\n",
    "\n",
    "import tensorflow as tf\n",
    "from tensorflow import keras\n",
    "from tensorflow.keras import layers\n",
    "from tensorflow.keras.layers.experimental import preprocessing\n",
    "\n",
    "import math\n",
    "\n",
    "print(tf.__version__)"
   ]
  },
  {
   "cell_type": "markdown",
   "id": "89ab4973",
   "metadata": {},
   "source": [
    "The following command helped Jupyter notebook's autocomplete in this document. "
   ]
  },
  {
   "cell_type": "code",
   "execution_count": 2,
   "id": "963eb4b2",
   "metadata": {},
   "outputs": [],
   "source": [
    "%config Completer.use_jedi = False"
   ]
  },
  {
   "cell_type": "markdown",
   "id": "0d0849f3",
   "metadata": {},
   "source": [
    "## Credit default dataset"
   ]
  },
  {
   "cell_type": "markdown",
   "id": "61214ef4",
   "metadata": {},
   "source": [
    "The data describe default status on Taiwan credit card clients. The dataset is pulled from https://archive.ics.uci.edu/ml/datasets/default+of+credit+card+clients. The source of the dataset is cited as \n",
    "\n",
    "I-Cheng Yeh; icyeh '@' chu.edu.tw; Department of Information Management, Chung Hua University, Taiwan. Department of Civil Engineering, Tamkang University, Taiwan.\n",
    "other contact information: 886-2-26215656 ext. 3181"
   ]
  },
  {
   "cell_type": "markdown",
   "id": "279834ad",
   "metadata": {},
   "source": [
    "#### Load the dataset"
   ]
  },
  {
   "cell_type": "code",
   "execution_count": 3,
   "id": "0206f64a",
   "metadata": {},
   "outputs": [
    {
     "data": {
      "text/plain": [
       "Index(['ID', 'LIMIT_BAL', 'SEX', 'EDUCATION', 'MARRIAGE', 'AGE', 'PAY_0',\n",
       "       'PAY_2', 'PAY_3', 'PAY_4', 'PAY_5', 'PAY_6', 'BILL_AMT1', 'BILL_AMT2',\n",
       "       'BILL_AMT3', 'BILL_AMT4', 'BILL_AMT5', 'BILL_AMT6', 'PAY_AMT1',\n",
       "       'PAY_AMT2', 'PAY_AMT3', 'PAY_AMT4', 'PAY_AMT5', 'PAY_AMT6',\n",
       "       'default payment next month'],\n",
       "      dtype='object')"
      ]
     },
     "execution_count": 3,
     "metadata": {},
     "output_type": "execute_result"
    }
   ],
   "source": [
    "url = 'https://archive.ics.uci.edu/ml/machine-learning-databases/00350/default%20of%20credit%20card%20clients.xls'\n",
    "raw_dataset = pd.read_excel(url, skiprows = 1)\n",
    "raw_dataset.keys()"
   ]
  },
  {
   "cell_type": "markdown",
   "id": "5dd9133f",
   "metadata": {},
   "source": [
    "The original columns are\n",
    "\n",
    "- LIMIT_BAL: Amount of the given credit (NT dollar): it includes both the individual consumer credit and his/her family (supplementary) credit.\n",
    "- SEX: Gender (1 = male; 2 = female).\n",
    "- EDUCATION: Education (1 = graduate school; 2 = university; 3 = high school; 4 = others).\n",
    "- MARRIAGE: Marital status (1 = married; 2 = single; 3 = others).\n",
    "- AGE: Age (year).\n",
    "- PAY0 - PAY6: History of past payment. We tracked the past monthly payment records (from April to September, 2005) as follows: X6 = the repayment status in September, 2005; X7 = the repayment status in August, 2005; . . .;X11 = the repayment status in April, 2005. The measurement scale for the repayment status is: -1 = pay duly; 1 = payment delay for one month; 2 = payment delay for two months; . . .; 8 = payment delay for eight months; 9 = payment delay for nine months and above.\n",
    "- BILL_AMT1 - BILL_AMT6: Amount of bill statement (NT dollar). X12 = amount of bill statement in September, 2005; X13 = amount of bill statement in August, 2005; . . .; X17 = amount of bill statement in April, 2005.\n",
    "- PAY_AMT1 - PAY_AMT6: Amount of previous payment (NT dollar). X18 = amount paid in September, 2005; X19 = amount paid in August, 2005; . . .;X23 = amount paid in April, 2005.\n",
    "- default payment next month: binary indicator of whether or not the next month's credit bill was paid.  "
   ]
  },
  {
   "cell_type": "markdown",
   "id": "d9843403",
   "metadata": {},
   "source": [
    "#### Keep only certain columns, rename to sentence case"
   ]
  },
  {
   "cell_type": "markdown",
   "id": "dc8eb126",
   "metadata": {},
   "source": [
    "We'll only work with the columns that specifically describe individual attributes (sex, education, etc.) for easier interpretation of the results. Also, convert some of the names to sentence case and rename the response variable to \"Default\". "
   ]
  },
  {
   "cell_type": "code",
   "execution_count": 4,
   "id": "e57c3a07",
   "metadata": {},
   "outputs": [],
   "source": [
    "keep_names = ['LIMIT_BAL', 'SEX', 'EDUCATION', 'MARRIAGE', 'AGE', 'default payment next month']\n",
    "raw_dataset = raw_dataset.loc[:, keep_names]"
   ]
  },
  {
   "cell_type": "code",
   "execution_count": 5,
   "id": "2671af56",
   "metadata": {},
   "outputs": [],
   "source": [
    "raw_dataset.rename(columns = {'LIMIT_BAL':'Limit', 'SEX':'Sex', 'EDUCATION':'Education', \n",
    "                              'MARRIAGE':'Marriage', 'AGE':'Age', 'default payment next month':'Default'}, \n",
    "                  inplace = True)"
   ]
  },
  {
   "cell_type": "markdown",
   "id": "4caa9b76",
   "metadata": {},
   "source": [
    "## Clean the data"
   ]
  },
  {
   "cell_type": "markdown",
   "id": "55425b07",
   "metadata": {},
   "source": [
    "Check for NA values"
   ]
  },
  {
   "cell_type": "code",
   "execution_count": 6,
   "id": "0fe982bc",
   "metadata": {},
   "outputs": [
    {
     "data": {
      "text/plain": [
       "Limit        0\n",
       "Sex          0\n",
       "Education    0\n",
       "Marriage     0\n",
       "Age          0\n",
       "Default      0\n",
       "dtype: int64"
      ]
     },
     "execution_count": 6,
     "metadata": {},
     "output_type": "execute_result"
    }
   ],
   "source": [
    "raw_dataset.isna().sum()"
   ]
  },
  {
   "cell_type": "markdown",
   "id": "e455e218",
   "metadata": {},
   "source": [
    "The columns \"Sex\", \"Education\", and \"Marriage\" are categorical variables. Convert each of these into one-hot-encoded vectors. "
   ]
  },
  {
   "cell_type": "code",
   "execution_count": 7,
   "id": "0d84d318",
   "metadata": {},
   "outputs": [],
   "source": [
    "raw_dataset['Sex'] = raw_dataset['Sex'].map({1:'Male', 2:'Female'})\n",
    "raw_dataset['Education'] = raw_dataset['Education'].map({1:'Graduate', 2:'University', 3:'Highschool', 4:'Other_school'})\n",
    "raw_dataset['Marriage'] = raw_dataset['Marriage'].map({1:'Married', 2:'Single', 3:'Other_relationship'})"
   ]
  },
  {
   "cell_type": "code",
   "execution_count": 8,
   "id": "590d300f",
   "metadata": {},
   "outputs": [],
   "source": [
    "dataset = pd.get_dummies(raw_dataset, columns=['Sex', 'Education', 'Marriage'], prefix = '', prefix_sep = '')"
   ]
  },
  {
   "cell_type": "code",
   "execution_count": 9,
   "id": "55cd59fb",
   "metadata": {},
   "outputs": [
    {
     "data": {
      "text/html": [
       "<div>\n",
       "<style scoped>\n",
       "    .dataframe tbody tr th:only-of-type {\n",
       "        vertical-align: middle;\n",
       "    }\n",
       "\n",
       "    .dataframe tbody tr th {\n",
       "        vertical-align: top;\n",
       "    }\n",
       "\n",
       "    .dataframe thead th {\n",
       "        text-align: right;\n",
       "    }\n",
       "</style>\n",
       "<table border=\"1\" class=\"dataframe\">\n",
       "  <thead>\n",
       "    <tr style=\"text-align: right;\">\n",
       "      <th></th>\n",
       "      <th>Limit</th>\n",
       "      <th>Age</th>\n",
       "      <th>Default</th>\n",
       "      <th>Female</th>\n",
       "      <th>Male</th>\n",
       "      <th>Graduate</th>\n",
       "      <th>Highschool</th>\n",
       "      <th>Other_school</th>\n",
       "      <th>University</th>\n",
       "      <th>Married</th>\n",
       "      <th>Other_relationship</th>\n",
       "      <th>Single</th>\n",
       "    </tr>\n",
       "  </thead>\n",
       "  <tbody>\n",
       "    <tr>\n",
       "      <th>29995</th>\n",
       "      <td>220000</td>\n",
       "      <td>39</td>\n",
       "      <td>0</td>\n",
       "      <td>0</td>\n",
       "      <td>1</td>\n",
       "      <td>0</td>\n",
       "      <td>1</td>\n",
       "      <td>0</td>\n",
       "      <td>0</td>\n",
       "      <td>1</td>\n",
       "      <td>0</td>\n",
       "      <td>0</td>\n",
       "    </tr>\n",
       "    <tr>\n",
       "      <th>29996</th>\n",
       "      <td>150000</td>\n",
       "      <td>43</td>\n",
       "      <td>0</td>\n",
       "      <td>0</td>\n",
       "      <td>1</td>\n",
       "      <td>0</td>\n",
       "      <td>1</td>\n",
       "      <td>0</td>\n",
       "      <td>0</td>\n",
       "      <td>0</td>\n",
       "      <td>0</td>\n",
       "      <td>1</td>\n",
       "    </tr>\n",
       "    <tr>\n",
       "      <th>29997</th>\n",
       "      <td>30000</td>\n",
       "      <td>37</td>\n",
       "      <td>1</td>\n",
       "      <td>0</td>\n",
       "      <td>1</td>\n",
       "      <td>0</td>\n",
       "      <td>0</td>\n",
       "      <td>0</td>\n",
       "      <td>1</td>\n",
       "      <td>0</td>\n",
       "      <td>0</td>\n",
       "      <td>1</td>\n",
       "    </tr>\n",
       "    <tr>\n",
       "      <th>29998</th>\n",
       "      <td>80000</td>\n",
       "      <td>41</td>\n",
       "      <td>1</td>\n",
       "      <td>0</td>\n",
       "      <td>1</td>\n",
       "      <td>0</td>\n",
       "      <td>1</td>\n",
       "      <td>0</td>\n",
       "      <td>0</td>\n",
       "      <td>1</td>\n",
       "      <td>0</td>\n",
       "      <td>0</td>\n",
       "    </tr>\n",
       "    <tr>\n",
       "      <th>29999</th>\n",
       "      <td>50000</td>\n",
       "      <td>46</td>\n",
       "      <td>1</td>\n",
       "      <td>0</td>\n",
       "      <td>1</td>\n",
       "      <td>0</td>\n",
       "      <td>0</td>\n",
       "      <td>0</td>\n",
       "      <td>1</td>\n",
       "      <td>1</td>\n",
       "      <td>0</td>\n",
       "      <td>0</td>\n",
       "    </tr>\n",
       "  </tbody>\n",
       "</table>\n",
       "</div>"
      ],
      "text/plain": [
       "        Limit  Age  Default  Female  Male  Graduate  Highschool  Other_school  \\\n",
       "29995  220000   39        0       0     1         0           1             0   \n",
       "29996  150000   43        0       0     1         0           1             0   \n",
       "29997   30000   37        1       0     1         0           0             0   \n",
       "29998   80000   41        1       0     1         0           1             0   \n",
       "29999   50000   46        1       0     1         0           0             0   \n",
       "\n",
       "       University  Married  Other_relationship  Single  \n",
       "29995           0        1                   0       0  \n",
       "29996           0        0                   0       1  \n",
       "29997           1        0                   0       1  \n",
       "29998           0        1                   0       0  \n",
       "29999           1        1                   0       0  "
      ]
     },
     "execution_count": 9,
     "metadata": {},
     "output_type": "execute_result"
    }
   ],
   "source": [
    "dataset.tail()"
   ]
  },
  {
   "cell_type": "code",
   "execution_count": null,
   "id": "91e23a60",
   "metadata": {},
   "outputs": [],
   "source": []
  },
  {
   "cell_type": "markdown",
   "id": "cefbb305",
   "metadata": {},
   "source": [
    "## Split dataset into test and train sets"
   ]
  },
  {
   "cell_type": "markdown",
   "id": "5a4dd97a",
   "metadata": {},
   "source": [
    "Split data into train, validation, and test sets. "
   ]
  },
  {
   "cell_type": "code",
   "execution_count": 10,
   "id": "1b623709",
   "metadata": {},
   "outputs": [],
   "source": [
    "from sklearn.model_selection import train_test_split"
   ]
  },
  {
   "cell_type": "code",
   "execution_count": 11,
   "id": "e5c5a62a",
   "metadata": {},
   "outputs": [],
   "source": [
    "train_df, test_df = train_test_split(dataset, test_size = 0.2)\n",
    "train_df, val_df = train_test_split(train_df, test_size = 0.2)"
   ]
  },
  {
   "cell_type": "markdown",
   "id": "c8ef2626",
   "metadata": {},
   "source": [
    "## Inspect the data"
   ]
  },
  {
   "cell_type": "code",
   "execution_count": 12,
   "id": "67d9dd51",
   "metadata": {},
   "outputs": [
    {
     "data": {
      "text/html": [
       "<div>\n",
       "<style scoped>\n",
       "    .dataframe tbody tr th:only-of-type {\n",
       "        vertical-align: middle;\n",
       "    }\n",
       "\n",
       "    .dataframe tbody tr th {\n",
       "        vertical-align: top;\n",
       "    }\n",
       "\n",
       "    .dataframe thead th {\n",
       "        text-align: right;\n",
       "    }\n",
       "</style>\n",
       "<table border=\"1\" class=\"dataframe\">\n",
       "  <thead>\n",
       "    <tr style=\"text-align: right;\">\n",
       "      <th></th>\n",
       "      <th>mean</th>\n",
       "      <th>std</th>\n",
       "    </tr>\n",
       "  </thead>\n",
       "  <tbody>\n",
       "    <tr>\n",
       "      <th>Limit</th>\n",
       "      <td>168019.375000</td>\n",
       "      <td>129843.088801</td>\n",
       "    </tr>\n",
       "    <tr>\n",
       "      <th>Age</th>\n",
       "      <td>35.516198</td>\n",
       "      <td>9.262404</td>\n",
       "    </tr>\n",
       "    <tr>\n",
       "      <th>Default</th>\n",
       "      <td>0.220990</td>\n",
       "      <td>0.414924</td>\n",
       "    </tr>\n",
       "    <tr>\n",
       "      <th>Female</th>\n",
       "      <td>0.605313</td>\n",
       "      <td>0.488796</td>\n",
       "    </tr>\n",
       "    <tr>\n",
       "      <th>Male</th>\n",
       "      <td>0.394688</td>\n",
       "      <td>0.488796</td>\n",
       "    </tr>\n",
       "    <tr>\n",
       "      <th>Graduate</th>\n",
       "      <td>0.356042</td>\n",
       "      <td>0.478840</td>\n",
       "    </tr>\n",
       "    <tr>\n",
       "      <th>Highschool</th>\n",
       "      <td>0.164635</td>\n",
       "      <td>0.370861</td>\n",
       "    </tr>\n",
       "    <tr>\n",
       "      <th>Other_school</th>\n",
       "      <td>0.004010</td>\n",
       "      <td>0.063202</td>\n",
       "    </tr>\n",
       "    <tr>\n",
       "      <th>University</th>\n",
       "      <td>0.463542</td>\n",
       "      <td>0.498682</td>\n",
       "    </tr>\n",
       "    <tr>\n",
       "      <th>Married</th>\n",
       "      <td>0.449844</td>\n",
       "      <td>0.497491</td>\n",
       "    </tr>\n",
       "    <tr>\n",
       "      <th>Other_relationship</th>\n",
       "      <td>0.010573</td>\n",
       "      <td>0.102282</td>\n",
       "    </tr>\n",
       "    <tr>\n",
       "      <th>Single</th>\n",
       "      <td>0.537760</td>\n",
       "      <td>0.498585</td>\n",
       "    </tr>\n",
       "  </tbody>\n",
       "</table>\n",
       "</div>"
      ],
      "text/plain": [
       "                             mean            std\n",
       "Limit               168019.375000  129843.088801\n",
       "Age                     35.516198       9.262404\n",
       "Default                  0.220990       0.414924\n",
       "Female                   0.605313       0.488796\n",
       "Male                     0.394688       0.488796\n",
       "Graduate                 0.356042       0.478840\n",
       "Highschool               0.164635       0.370861\n",
       "Other_school             0.004010       0.063202\n",
       "University               0.463542       0.498682\n",
       "Married                  0.449844       0.497491\n",
       "Other_relationship       0.010573       0.102282\n",
       "Single                   0.537760       0.498585"
      ]
     },
     "execution_count": 12,
     "metadata": {},
     "output_type": "execute_result"
    }
   ],
   "source": [
    "train_df.describe().transpose()[['mean','std']]"
   ]
  },
  {
   "cell_type": "code",
   "execution_count": 13,
   "id": "4362b8a4",
   "metadata": {},
   "outputs": [
    {
     "data": {
      "text/plain": [
       "<seaborn.axisgrid.PairGrid at 0x7fd7c07fe290>"
      ]
     },
     "execution_count": 13,
     "metadata": {},
     "output_type": "execute_result"
    },
    {
     "data": {
      "image/png": "[encoded data removed]",
      "text/plain": [
       "<Figure size 584.75x540 with 12 Axes>"
      ]
     },
     "metadata": {
      "needs_background": "light"
     },
     "output_type": "display_data"
    }
   ],
   "source": [
    "sns.pairplot(train_df[['Limit', 'Age', 'Default', 'Male']], hue = \"Default\", diag_kind = 'hist')"
   ]
  },
  {
   "cell_type": "markdown",
   "id": "00b33755",
   "metadata": {},
   "source": [
    "Some general things to note: from top left to bottom right, diagonal plots indicate that default is more likely to occur on credit cards that have \n",
    "- 1. lower limits\n",
    "- 2. younger owners\n",
    "- 3. male owners"
   ]
  },
  {
   "cell_type": "markdown",
   "id": "5b23a30a",
   "metadata": {},
   "source": [
    "## Separate features from labels"
   ]
  },
  {
   "cell_type": "markdown",
   "id": "858979d9",
   "metadata": {},
   "source": [
    "The following commands store features and labels in seperate dataframes. "
   ]
  },
  {
   "cell_type": "code",
   "execution_count": 15,
   "id": "41c00e68",
   "metadata": {},
   "outputs": [],
   "source": [
    "train_features = train_df.copy()\n",
    "val_features = val_df.copy()\n",
    "test_features = test_df.copy()\n",
    "\n",
    "train_labels = train_features.pop('Default')\n",
    "val_labels = val_features.pop('Default')\n",
    "test_labels = test_features.pop('Default')"
   ]
  },
  {
   "cell_type": "code",
   "execution_count": null,
   "id": "f594b801",
   "metadata": {},
   "outputs": [],
   "source": []
  },
  {
   "cell_type": "markdown",
   "id": "73cea148",
   "metadata": {},
   "source": [
    "Make a note of how many features are in the train_features dataset."
   ]
  },
  {
   "cell_type": "code",
   "execution_count": 16,
   "id": "76c6f841",
   "metadata": {},
   "outputs": [
    {
     "data": {
      "text/plain": [
       "(19200, 11)"
      ]
     },
     "execution_count": 16,
     "metadata": {},
     "output_type": "execute_result"
    }
   ],
   "source": [
    "train_features.shape"
   ]
  },
  {
   "cell_type": "markdown",
   "id": "f01f2607",
   "metadata": {},
   "source": [
    "## Normalize continuous predictors "
   ]
  },
  {
   "cell_type": "markdown",
   "id": "19ab82bc",
   "metadata": {},
   "source": [
    "Build a normalizer that will be incorporated as a layer in the neural networks. "
   ]
  },
  {
   "cell_type": "code",
   "execution_count": 17,
   "id": "777e53a9",
   "metadata": {},
   "outputs": [],
   "source": [
    "normalizer = preprocessing.Normalization()"
   ]
  },
  {
   "cell_type": "markdown",
   "id": "d0e1aec2",
   "metadata": {},
   "source": [
    "Adapt the normalizer to the training dataset. "
   ]
  },
  {
   "cell_type": "code",
   "execution_count": 18,
   "id": "ebb58d93",
   "metadata": {},
   "outputs": [],
   "source": [
    "normalizer.adapt(np.array(train_features))"
   ]
  },
  {
   "cell_type": "code",
   "execution_count": 19,
   "id": "a38e5ab6",
   "metadata": {},
   "outputs": [
    {
     "data": {
      "text/plain": [
       "(<tf.Variable 'mean:0' shape=(11,) dtype=float32, numpy=\n",
       " array([1.6801938e+05, 3.5516197e+01, 6.0531253e-01, 3.9468750e-01,\n",
       "        3.5604167e-01, 1.6463542e-01, 4.0104166e-03, 4.6354166e-01,\n",
       "        4.4984376e-01, 1.0572917e-02, 5.3776044e-01], dtype=float32)>,\n",
       " <tf.Variable 'variance:0' shape=(11,) dtype=float32, numpy=\n",
       " array([1.6858350e+10, 8.5787651e+01, 2.3890927e-01, 2.3890927e-01,\n",
       "        2.2927600e-01, 1.3753060e-01, 3.9943331e-03, 2.4867079e-01,\n",
       "        2.4748436e-01, 1.0461130e-02, 2.4857415e-01], dtype=float32)>)"
      ]
     },
     "execution_count": 19,
     "metadata": {},
     "output_type": "execute_result"
    }
   ],
   "source": [
    "normalizer.mean, normalizer.variance"
   ]
  },
  {
   "cell_type": "code",
   "execution_count": null,
   "id": "f8dc7499",
   "metadata": {},
   "outputs": [],
   "source": []
  },
  {
   "cell_type": "markdown",
   "id": "cfd6601e",
   "metadata": {},
   "source": [
    "## Build a logistic regression model"
   ]
  },
  {
   "cell_type": "markdown",
   "id": "1075ed10",
   "metadata": {},
   "source": [
    "We'll construct the model in a manner that allows us to choose the output_bias in the last layer. If chosen properly, choosing the output_bias will make training more efficient. "
   ]
  },
  {
   "cell_type": "code",
   "execution_count": 20,
   "id": "a3270043",
   "metadata": {},
   "outputs": [],
   "source": [
    "def Linear_Logistic_Model(output_bias = None):\n",
    "    if output_bias is not None:\n",
    "        output_bias = tf.keras.initializers.Constant(output_bias)\n",
    "    model = tf.keras.Sequential([\n",
    "        normalizer, layers.Dense(units = 1, \n",
    "                                bias_initializer = output_bias)\n",
    "    ])\n",
    "    \n",
    "    model.compile(\n",
    "    optimizer=keras.optimizers.Adam(lr=1e-3),\n",
    "    loss=keras.losses.BinaryCrossentropy(from_logits = True), \n",
    "    metrics=['accuracy'])\n",
    "\n",
    "    return model"
   ]
  },
  {
   "cell_type": "markdown",
   "id": "9710fc32",
   "metadata": {},
   "source": [
    "#### Derive an appropriate output bias"
   ]
  },
  {
   "cell_type": "markdown",
   "id": "b1e9eabf",
   "metadata": {},
   "source": [
    "In later steps, the final output of the neural network will be converted into a probability using a sigmoid activation layer of the form $\\sigma(z) = \\frac{e^z}{1 + e^z}$. Here, $z = \\sum w_i x_i + b$ is the output of the last layer of our neural network, the $x_i$ are the feature values, $w_i$ are weights, and $b$ is an intercept. We can choose the intercept so that, prior to any training and with weights initialized near 0, the model will predict the probability of default of any given sample is equal to the proportion of defaults in the training data. Choosing the intercept in this way makes training more efficient. \n",
    "\n",
    "Let $\\hat{p}$ be the proportion of observations with default status 1. Then a logical baseline prediction of our model is \n",
    "\\begin{equation} \n",
    "\\sigma(z) = \\frac{e^z}{1 + e^z} = \\hat{p}\n",
    "\\end{equation}\n",
    "\n",
    "If weights are initialized near 0 then $z \\approx b$. Solving the above equation for b yields\n",
    "\\begin{equation}\n",
    "    b = \\log(\\frac{\\hat{p}}{1 - \\hat{p}}).\n",
    "\\end{equation}\n",
    " In words, the intercept b should be initialized to the log-odds ratio of the dataset. Here, \"log\" refers to the base e logarithm. Next, calculate $\\hat{p}$ from our dataset. \n"
   ]
  },
  {
   "cell_type": "code",
   "execution_count": 32,
   "id": "705b19f9",
   "metadata": {},
   "outputs": [
    {
     "data": {
      "text/plain": [
       "0.22098958333333332"
      ]
     },
     "execution_count": 32,
     "metadata": {},
     "output_type": "execute_result"
    }
   ],
   "source": [
    "phat = train_labels.sum() / len(train_labels)\n",
    "phat"
   ]
  },
  {
   "cell_type": "markdown",
   "id": "e854d056",
   "metadata": {},
   "source": [
    "The appropriate output bias is the log-odds of phat"
   ]
  },
  {
   "cell_type": "code",
   "execution_count": 37,
   "id": "7ba645d9",
   "metadata": {},
   "outputs": [
    {
     "data": {
      "text/plain": [
       "-1.2599088514570018"
      ]
     },
     "execution_count": 37,
     "metadata": {},
     "output_type": "execute_result"
    }
   ],
   "source": [
    "train_output_bias = math.log(phat/(1 - phat))\n",
    "train_output_bias"
   ]
  },
  {
   "cell_type": "code",
   "execution_count": null,
   "id": "438d2565",
   "metadata": {},
   "outputs": [],
   "source": []
  },
  {
   "cell_type": "markdown",
   "id": "86f5fa71",
   "metadata": {},
   "source": [
    "## Construct the model with appropriate output bias"
   ]
  },
  {
   "cell_type": "code",
   "execution_count": 38,
   "id": "307ac08d",
   "metadata": {},
   "outputs": [],
   "source": [
    "Base_Logistic_Model = Linear_Logistic_Model(output_bias = train_output_bias)"
   ]
  },
  {
   "cell_type": "code",
   "execution_count": 39,
   "id": "013779ca",
   "metadata": {},
   "outputs": [
    {
     "data": {
      "text/plain": [
       "array([[-0.51614124],\n",
       "       [-1.4263155 ],\n",
       "       [-0.7052172 ],\n",
       "       [ 0.01092565],\n",
       "       [-1.5304643 ],\n",
       "       [-1.6567768 ],\n",
       "       [-1.0728717 ],\n",
       "       [-2.9034014 ],\n",
       "       [-0.4156534 ],\n",
       "       [-0.21666658],\n",
       "       [-2.3009195 ]], dtype=float32)"
      ]
     },
     "execution_count": 39,
     "metadata": {},
     "output_type": "execute_result"
    }
   ],
   "source": [
    "Base_Logistic_Model.predict(train_features[:11])"
   ]
  },
  {
   "cell_type": "code",
   "execution_count": null,
   "id": "fc8666cb",
   "metadata": {},
   "outputs": [],
   "source": []
  },
  {
   "cell_type": "markdown",
   "id": "19d2a5de",
   "metadata": {},
   "source": [
    "## Compile and fit the model to the training data"
   ]
  },
  {
   "cell_type": "code",
   "execution_count": null,
   "id": "7bd45830",
   "metadata": {},
   "outputs": [],
   "source": []
  },
  {
   "cell_type": "code",
   "execution_count": 40,
   "id": "afc45b39",
   "metadata": {},
   "outputs": [
    {
     "name": "stdout",
     "output_type": "stream",
     "text": [
      "Epoch 1/10\n",
      "480/480 [==============================] - 2s 4ms/step - loss: 0.5998 - accuracy: 0.7687 - val_loss: 0.5477 - val_accuracy: 0.7714\n",
      "Epoch 2/10\n",
      "480/480 [==============================] - 2s 3ms/step - loss: 0.5370 - accuracy: 0.7736 - val_loss: 0.5298 - val_accuracy: 0.7714\n",
      "Epoch 3/10\n",
      "480/480 [==============================] - 2s 3ms/step - loss: 0.5284 - accuracy: 0.7709 - val_loss: 0.5256 - val_accuracy: 0.7737\n",
      "Epoch 4/10\n",
      "480/480 [==============================] - 2s 5ms/step - loss: 0.5118 - accuracy: 0.7828 - val_loss: 0.5246 - val_accuracy: 0.7737\n",
      "Epoch 5/10\n",
      "480/480 [==============================] - 2s 4ms/step - loss: 0.5164 - accuracy: 0.7755 - val_loss: 0.5244 - val_accuracy: 0.7737\n",
      "Epoch 6/10\n",
      "480/480 [==============================] - 2s 4ms/step - loss: 0.5180 - accuracy: 0.7768 - val_loss: 0.5244 - val_accuracy: 0.7737\n",
      "Epoch 7/10\n",
      "480/480 [==============================] - 2s 5ms/step - loss: 0.5176 - accuracy: 0.7762 - val_loss: 0.5244 - val_accuracy: 0.7737\n",
      "Epoch 8/10\n",
      "480/480 [==============================] - 2s 4ms/step - loss: 0.5069 - accuracy: 0.7837 - val_loss: 0.5244 - val_accuracy: 0.7737\n",
      "Epoch 9/10\n",
      "480/480 [==============================] - 2s 3ms/step - loss: 0.5018 - accuracy: 0.7873 - val_loss: 0.5242 - val_accuracy: 0.7737\n",
      "Epoch 10/10\n",
      "480/480 [==============================] - 1s 3ms/step - loss: 0.5070 - accuracy: 0.7837 - val_loss: 0.5242 - val_accuracy: 0.7737\n",
      "CPU times: user 1min 4s, sys: 1min 5s, total: 2min 9s\n",
      "Wall time: 19.3 s\n"
     ]
    }
   ],
   "source": [
    "history_linear = Base_Logistic_Model.fit(\n",
    "    train_features, train_labels, \n",
    "    epochs=10,\n",
    "    verbose=1,\n",
    "    validation_split = 0.2)"
   ]
  },
  {
   "cell_type": "markdown",
   "id": "93c4e67f",
   "metadata": {},
   "source": [
    "## Make a plot of model performance across epochs"
   ]
  },
  {
   "cell_type": "code",
   "execution_count": 41,
   "id": "a0794d8d",
   "metadata": {},
   "outputs": [],
   "source": [
    "def plot_loss(history):\n",
    "  plt.plot(history.history['loss'], label='loss')\n",
    "  plt.plot(history.history['val_loss'], label='val_loss')\n",
    "  plt.ylim([0, 0.6])\n",
    "  plt.xlabel('Epoch')\n",
    "  plt.ylabel('Loss')\n",
    "  plt.legend()\n",
    "  plt.grid(True)"
   ]
  },
  {
   "cell_type": "code",
   "execution_count": 42,
   "id": "80115474",
   "metadata": {},
   "outputs": [
    {
     "data": {
      "image/png": "[encoded data removed]",
      "text/plain": [
       "<Figure size 432x288 with 1 Axes>"
      ]
     },
     "metadata": {
      "needs_background": "light"
     },
     "output_type": "display_data"
    }
   ],
   "source": [
    "plot_loss(history_linear)"
   ]
  },
  {
   "cell_type": "markdown",
   "id": "f58c80d3",
   "metadata": {},
   "source": [
    "## Save model error on validation and test data"
   ]
  },
  {
   "cell_type": "code",
   "execution_count": null,
   "id": "55ae9ebb",
   "metadata": {},
   "outputs": [],
   "source": [
    "val_linear = history['']"
   ]
  },
  {
   "cell_type": "code",
   "execution_count": 47,
   "id": "f5007399",
   "metadata": {},
   "outputs": [
    {
     "data": {
      "text/plain": [
       "[0.5476833581924438,\n",
       " 0.5297865867614746,\n",
       " 0.5256031155586243,\n",
       " 0.5246275067329407,\n",
       " 0.5244415402412415,\n",
       " 0.5244265198707581,\n",
       " 0.524422287940979,\n",
       " 0.5243647694587708,\n",
       " 0.5242334008216858,\n",
       " 0.5241853594779968]"
      ]
     },
     "execution_count": 47,
     "metadata": {},
     "output_type": "execute_result"
    }
   ],
   "source": [
    "history.history['val_loss']"
   ]
  },
  {
   "cell_type": "markdown",
   "id": "153b4687",
   "metadata": {},
   "source": [
    "## Add hidden layers to the neural network"
   ]
  },
  {
   "cell_type": "markdown",
   "id": "ffbf860f",
   "metadata": {},
   "source": [
    "We'll add two hidden layers, each progressively smaller than the last. To help avoid over-fitting, we also add a dropout layer. The dropout layer strengthens meaningful connections during training by ignoring a fraction of randomly chosen outputs from the previous layer. In this case, we choose a relatively large proportion (50%) of inputs to ignore.  "
   ]
  },
  {
   "cell_type": "code",
   "execution_count": 50,
   "id": "46d1d7d3",
   "metadata": {},
   "outputs": [],
   "source": [
    "def Deep_Logistic_Model(output_bias = None):\n",
    "    if output_bias is not None:\n",
    "        output_bias = tf.keras.initializers.Constant(output_bias)\n",
    "    model = tf.keras.Sequential([\n",
    "        normalizer, \n",
    "        layers.Dense(units = 8, \n",
    "                                bias_initializer = output_bias), \n",
    "        layers.Dense(units = 4, \n",
    "                                bias_initializer = output_bias),        \n",
    "        layers.Dropout(0.5),\n",
    "        layers.Dense(units = 1, \n",
    "                                bias_initializer = output_bias)\n",
    "    ])\n",
    "    \n",
    "    model.compile(\n",
    "    optimizer=keras.optimizers.Adam(lr=1e-3),\n",
    "    loss=keras.losses.BinaryCrossentropy(from_logits = True), \n",
    "    metrics=['accuracy'])\n",
    "\n",
    "    return model"
   ]
  },
  {
   "cell_type": "code",
   "execution_count": 51,
   "id": "fb5daafc",
   "metadata": {},
   "outputs": [],
   "source": [
    "Deep_Logistic_Model = Deep_Logistic_Model(output_bias = train_output_bias)"
   ]
  },
  {
   "cell_type": "code",
   "execution_count": 52,
   "id": "a80498d3",
   "metadata": {},
   "outputs": [
    {
     "name": "stdout",
     "output_type": "stream",
     "text": [
      "Epoch 1/10\n",
      "480/480 [==============================] - 3s 4ms/step - loss: 0.7753 - accuracy: 0.7164 - val_loss: 0.5371 - val_accuracy: 0.7714\n",
      "Epoch 2/10\n",
      "480/480 [==============================] - 2s 3ms/step - loss: 0.5439 - accuracy: 0.7754 - val_loss: 0.5242 - val_accuracy: 0.7737\n",
      "Epoch 3/10\n",
      "480/480 [==============================] - 3s 6ms/step - loss: 0.5146 - accuracy: 0.7833 - val_loss: 0.5230 - val_accuracy: 0.7737\n",
      "Epoch 4/10\n",
      "480/480 [==============================] - 2s 5ms/step - loss: 0.5209 - accuracy: 0.7776 - val_loss: 0.5233 - val_accuracy: 0.7737\n",
      "Epoch 5/10\n",
      "480/480 [==============================] - 2s 5ms/step - loss: 0.5146 - accuracy: 0.7812 - val_loss: 0.5227 - val_accuracy: 0.7737\n",
      "Epoch 6/10\n",
      "480/480 [==============================] - 2s 5ms/step - loss: 0.5125 - accuracy: 0.7825 - val_loss: 0.5223 - val_accuracy: 0.7737\n",
      "Epoch 7/10\n",
      "480/480 [==============================] - 3s 7ms/step - loss: 0.5126 - accuracy: 0.7803 - val_loss: 0.5225 - val_accuracy: 0.7737\n",
      "Epoch 8/10\n",
      "480/480 [==============================] - 2s 5ms/step - loss: 0.5082 - accuracy: 0.7856 - val_loss: 0.5224 - val_accuracy: 0.7737\n",
      "Epoch 9/10\n",
      "480/480 [==============================] - 2s 5ms/step - loss: 0.5141 - accuracy: 0.7806 - val_loss: 0.5229 - val_accuracy: 0.7737\n",
      "Epoch 10/10\n",
      "480/480 [==============================] - 2s 3ms/step - loss: 0.5176 - accuracy: 0.7785 - val_loss: 0.5243 - val_accuracy: 0.7737\n"
     ]
    }
   ],
   "source": [
    "history_deep = Deep_Logistic_Model.fit(\n",
    "    train_features, train_labels, \n",
    "    epochs=10,\n",
    "    verbose=1,\n",
    "    validation_split = 0.2)"
   ]
  },
  {
   "cell_type": "markdown",
   "id": "3cef1592",
   "metadata": {},
   "source": [
    "## Interpretation and conclusions"
   ]
  },
  {
   "cell_type": "markdown",
   "id": "83908be2",
   "metadata": {},
   "source": [
    "One of the things I've grown to love about my experience in science is that your expectations are always challenged. In this case, fitting a more complicated model to the Taiwan credit default dataset did not result in a greater validation accuracy. Given the predictors that this modeling approach uses, the simple logistic regression model is just as accurate on the more complicated deep neural network. Consequently, I will move forward with the simpler linear regression model. Out of curiosity, we the linear and deep networks on the test data: "
   ]
  },
  {
   "cell_type": "code",
   "execution_count": 53,
   "id": "59a88877",
   "metadata": {},
   "outputs": [
    {
     "name": "stdout",
     "output_type": "stream",
     "text": [
      "188/188 [==============================] - 2s 7ms/step - loss: 0.5103 - accuracy: 0.7842\n"
     ]
    },
    {
     "data": {
      "text/plain": [
       "[0.5102972984313965, 0.784166693687439]"
      ]
     },
     "execution_count": 53,
     "metadata": {},
     "output_type": "execute_result"
    }
   ],
   "source": [
    "Deep_Logistic_Model.evaluate(test_features, test_labels)"
   ]
  },
  {
   "cell_type": "code",
   "execution_count": 55,
   "id": "23f18e3a",
   "metadata": {},
   "outputs": [
    {
     "name": "stdout",
     "output_type": "stream",
     "text": [
      "188/188 [==============================] - 1s 5ms/step - loss: 0.5113 - accuracy: 0.7842\n"
     ]
    },
    {
     "data": {
      "text/plain": [
       "[0.5113459229469299, 0.784166693687439]"
      ]
     },
     "execution_count": 55,
     "metadata": {},
     "output_type": "execute_result"
    }
   ],
   "source": [
    "Base_Logistic_Model.evaluate(test_features, test_labels)"
   ]
  },
  {
   "cell_type": "markdown",
   "id": "9fee639f",
   "metadata": {},
   "source": [
    "The outputs above show the cross-entropy and accuracy of the models applied to test data. As expected from the training stage (and validation datasets), the linear logistic regression model is competitive with the more complicated deep neural network. "
   ]
  },
  {
   "cell_type": "markdown",
   "id": "3a7e24ac",
   "metadata": {},
   "source": [
    "## Add a softmax layer to the chosen neural network"
   ]
  },
  {
   "cell_type": "markdown",
   "id": "5ffac522",
   "metadata": {},
   "source": [
    "The base logistic regression model outputs the logits of predictions. Here, we add a \"cap\" to the model so that the outputs are probabilities. "
   ]
  },
  {
   "cell_type": "code",
   "execution_count": null,
   "id": "3fedbfcd",
   "metadata": {},
   "outputs": [],
   "source": []
  }
 ],
 "metadata": {
  "kernelspec": {
   "display_name": "Python 3",
   "language": "python",
   "name": "python3"
  },
  "language_info": {
   "codemirror_mode": {
    "name": "ipython",
    "version": 3
   },
   "file_extension": ".py",
   "mimetype": "text/x-python",
   "name": "python",
   "nbconvert_exporter": "python",
   "pygments_lexer": "ipython3",
   "version": "3.7.10"
  }
 },
 "nbformat": 4,
 "nbformat_minor": 5
}
